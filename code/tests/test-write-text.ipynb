{
 "cells": [
  {
   "cell_type": "code",
   "execution_count": 1,
   "metadata": {},
   "outputs": [],
   "source": [
    "# write a function that allows me to write twitter threads from a string"
   ]
  },
  {
   "cell_type": "code",
   "execution_count": 11,
   "metadata": {},
   "outputs": [],
   "source": [
    "import json\n",
    "import pandas as pd\n",
    "from datetime import datetime"
   ]
  },
  {
   "cell_type": "code",
   "execution_count": 49,
   "metadata": {},
   "outputs": [
    {
     "data": {
      "text/plain": [
       "'{\"id\": [1, 2], \"inserting_date\": [\"20220827\", \"20220827\"], \"publication_date\": [\"20220828\", \"20220829\"], \"module\": [[1], [1]], \"page\": [[38, 39], [40, 41]], \"topic\": [\"synapse\", \"databricks\"], \"first_tweet\": [\"Intro1\", \"Intro2\"], \"long_tweet\": [\"Azure Synapse is an enterprise analytics service that accelerates time to insight across data warehouses and big data systems.\", \"Azure Databricks is a data analytics platform optimized for the Microsoft Azure cloud services platform.\"]}'"
      ]
     },
     "execution_count": 49,
     "metadata": {},
     "output_type": "execute_result"
    }
   ],
   "source": [
    "data = {\n",
    "    'id':[1,2]\n",
    "    ,'inserting_date':['20220827', '20220827']\n",
    "    ,'publication_date': ['20220828', '20220829']\n",
    "    ,'module':[[1], [1]]\n",
    "    ,'page':[[38, 39], [40, 41]]\n",
    "    ,'topic':['synapse', 'databricks']\n",
    "    ,'first_tweet':['Intro1', 'Intro2']\n",
    "    ,'long_tweet':[\"Azure Synapse is an enterprise analytics service that accelerates time to insight across data warehouses and big data systems.\", \"Azure Databricks is a data analytics platform optimized for the Microsoft Azure cloud services platform.\"]  \n",
    "}\n",
    "\n",
    "#print(data['tweet'])\n",
    "data_json = json.dumps(data)\n",
    "data_json"
   ]
  },
  {
   "cell_type": "code",
   "execution_count": 53,
   "metadata": {},
   "outputs": [
    {
     "data": {
      "text/html": [
       "<div>\n",
       "<style scoped>\n",
       "    .dataframe tbody tr th:only-of-type {\n",
       "        vertical-align: middle;\n",
       "    }\n",
       "\n",
       "    .dataframe tbody tr th {\n",
       "        vertical-align: top;\n",
       "    }\n",
       "\n",
       "    .dataframe thead th {\n",
       "        text-align: right;\n",
       "    }\n",
       "</style>\n",
       "<table border=\"1\" class=\"dataframe\">\n",
       "  <thead>\n",
       "    <tr style=\"text-align: right;\">\n",
       "      <th></th>\n",
       "      <th>id</th>\n",
       "      <th>inserting_date</th>\n",
       "      <th>publication_date</th>\n",
       "      <th>module</th>\n",
       "      <th>page</th>\n",
       "      <th>topic</th>\n",
       "      <th>first_tweet</th>\n",
       "      <th>long_tweet</th>\n",
       "    </tr>\n",
       "  </thead>\n",
       "  <tbody>\n",
       "    <tr>\n",
       "      <th>0</th>\n",
       "      <td>1</td>\n",
       "      <td>20220827</td>\n",
       "      <td>20220828</td>\n",
       "      <td>[1]</td>\n",
       "      <td>[38, 39]</td>\n",
       "      <td>synapse</td>\n",
       "      <td>Intro1</td>\n",
       "      <td>Azure Synapse is an enterprise analytics service that accelerates time to insight across data warehouses and big data systems.</td>\n",
       "    </tr>\n",
       "    <tr>\n",
       "      <th>1</th>\n",
       "      <td>2</td>\n",
       "      <td>20220827</td>\n",
       "      <td>20220829</td>\n",
       "      <td>[1]</td>\n",
       "      <td>[40, 41]</td>\n",
       "      <td>databricks</td>\n",
       "      <td>Intro2</td>\n",
       "      <td>Azure Databricks is a data analytics platform optimized for the Microsoft Azure cloud services platform.</td>\n",
       "    </tr>\n",
       "  </tbody>\n",
       "</table>\n",
       "</div>"
      ],
      "text/plain": [
       "   id  inserting_date  publication_date module      page       topic  \\\n",
       "0   1        20220827          20220828    [1]  [38, 39]     synapse   \n",
       "1   2        20220827          20220829    [1]  [40, 41]  databricks   \n",
       "\n",
       "  first_tweet  \\\n",
       "0      Intro1   \n",
       "1      Intro2   \n",
       "\n",
       "                                                                                                                       long_tweet  \n",
       "0  Azure Synapse is an enterprise analytics service that accelerates time to insight across data warehouses and big data systems.  \n",
       "1                        Azure Databricks is a data analytics platform optimized for the Microsoft Azure cloud services platform.  "
      ]
     },
     "execution_count": 53,
     "metadata": {},
     "output_type": "execute_result"
    }
   ],
   "source": [
    "df = pd.read_json(data_json)\n",
    "df['first_tweet'] = df['first_tweet'].astype(\"string\")\n",
    "df['long_tweet'] = df['long_tweet'].astype(\"string\")\n",
    "df"
   ]
  },
  {
   "cell_type": "code",
   "execution_count": 56,
   "metadata": {},
   "outputs": [
    {
     "data": {
      "text/plain": [
       "'Intro1: Azure Synapse is an enterprise analytics service that accelerates time to insight across data warehouses and big data systems.'"
      ]
     },
     "execution_count": 56,
     "metadata": {},
     "output_type": "execute_result"
    }
   ],
   "source": [
    "intro = df.loc[df['publication_date'] == int(datetime.today().strftime(\"%Y%m%d\"))]['first_tweet'][0]\n",
    "body = df.loc[df['publication_date'] == int(datetime.today().strftime(\"%Y%m%d\"))]['long_tweet'][0]\n",
    "tweet = intro + ': ' + body\n",
    "tweet"
   ]
  }
 ],
 "metadata": {
  "kernelspec": {
   "display_name": "Python 3.10.4 64-bit",
   "language": "python",
   "name": "python3"
  },
  "language_info": {
   "codemirror_mode": {
    "name": "ipython",
    "version": 3
   },
   "file_extension": ".py",
   "mimetype": "text/x-python",
   "name": "python",
   "nbconvert_exporter": "python",
   "pygments_lexer": "ipython3",
   "version": "3.10.4"
  },
  "orig_nbformat": 4,
  "vscode": {
   "interpreter": {
    "hash": "26de051ba29f2982a8de78e945f0abaf191376122a1563185a90213a26c5da77"
   }
  }
 },
 "nbformat": 4,
 "nbformat_minor": 2
}
